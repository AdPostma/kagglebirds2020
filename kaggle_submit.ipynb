{
 "cells": [
  {
   "cell_type": "code",
   "execution_count": null,
   "metadata": {
    "_cell_guid": "b1076dfc-b9ad-4769-8c92-a6c4dae69d19",
    "_uuid": "8f2839f25d086af736a60e9eeb907d3b93b6e0e5",
    "tags": []
   },
   "outputs": [],
   "source": [
    "# extract trained model\n",
    "!mkdir -p /kaggle/temp/kagglebirds\n",
    "!tar -xzf /kaggle/input/kagglebirds-pytorch-data/kaggle_py.tgz -C /kaggle/temp/kagglebirds\n",
    "!tar -xzf /kaggle/input/kagglebirds-pytorch-data/kaggle_mdl.tgz -C /kaggle/temp/kagglebirds"
   ]
  },
  {
   "cell_type": "code",
   "execution_count": null,
   "metadata": {
    "tags": []
   },
   "outputs": [],
   "source": [
    "# find the name of the model\n",
    "import glob\n",
    "modelfiles = \" \".join(glob.glob('/kaggle/temp/kagglebirds/results/**/*.mdl', recursive=True))\n",
    "print(\"Found models: %s\" % modelfiles)"
   ]
  },
  {
   "cell_type": "code",
   "execution_count": null,
   "metadata": {
    "tags": []
   },
   "outputs": [],
   "source": [
    "# set the classification threshold\n",
    "threshold=0.5\n",
    "filtered_threshold=0.1\n",
    "# set options for site_3 predictions\n",
    "local_pooling_size=20\n",
    "local_pooling_overlap=0.5"
   ]
  },
  {
   "cell_type": "code",
   "execution_count": null,
   "metadata": {
    "tags": []
   },
   "outputs": [],
   "source": [
    "# distinguish test run from final submission\n",
    "import os\n",
    "if os.path.exists('/kaggle/input/birdsong-recognition/test_audio'):\n",
    "    indir = '/kaggle/input/birdsong-recognition'\n",
    "else:\n",
    "    indir = '/kaggle/input/birdcall-check'\n",
    "print(\"Using input directory: %s\" % indir)"
   ]
  },
  {
   "cell_type": "code",
   "execution_count": null,
   "metadata": {
    "tags": []
   },
   "outputs": [],
   "source": [
    "# run prediction script\n",
    "!env OMP_NUM_THREADS=1 /kaggle/temp/kagglebirds/predict_kagglebirds2020.py --threshold=$threshold --threshold-convert=logit --var data.len_max=$local_pooling_size --local-then-global --local-then-global-overlap=$local_pooling_overlap --filter-local-by-global --filtered-threshold=$filtered_threshold --var model.pretrained_weights= --cuda-device=0 --train-csv=/kaggle/input/birdsong-recognition/train.csv --test-csv $indir/test.csv --test-audio $indir/test_audio $modelfiles /kaggle/working/submission.csv"
   ]
  },
  {
   "cell_type": "code",
   "execution_count": null,
   "metadata": {
    "tags": []
   },
   "outputs": [],
   "source": [
    "!head submission.csv"
   ]
  },
  {
   "cell_type": "code",
   "execution_count": null,
   "metadata": {
    "tags": []
   },
   "outputs": [],
   "source": [
    "!tail submission.csv"
   ]
  }
 ],
 "metadata": {
  "kernelspec": {
   "display_name": "Python 3",
   "language": "python",
   "name": "python3"
  },
  "language_info": {
   "codemirror_mode": {
    "name": "ipython",
    "version": 3
   },
   "file_extension": ".py",
   "mimetype": "text/x-python",
   "name": "python",
   "nbconvert_exporter": "python",
   "pygments_lexer": "ipython3",
   "version": "3.7.6"
  }
 },
 "nbformat": 4,
 "nbformat_minor": 4
}
